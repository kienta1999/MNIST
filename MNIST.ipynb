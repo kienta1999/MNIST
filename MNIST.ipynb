{
 "cells": [
  {
   "cell_type": "code",
   "execution_count": 17,
   "metadata": {},
   "outputs": [
    {
     "data": {
      "text/plain": [
       "<tf.Tensor: id=292, shape=(), dtype=int64, numpy=6000>"
      ]
     },
     "execution_count": 17,
     "metadata": {},
     "output_type": "execute_result"
    }
   ],
   "source": [
    "#70000 handwritten digits --> classify 0 - 9\n",
    "#easy to build up to CNN"
   ]
  },
  {
   "cell_type": "code",
   "execution_count": 2,
   "metadata": {},
   "outputs": [],
   "source": [
    "import numpy as np\n",
    "import tensorflow as tf\n",
    "\n",
    "import tensorflow_datasets as tfds\n",
    "from ipywidgets import FloatProgress"
   ]
  },
  {
   "cell_type": "markdown",
   "metadata": {},
   "source": [
    "## Data"
   ]
  },
  {
   "cell_type": "code",
   "execution_count": 3,
   "metadata": {
    "scrolled": false
   },
   "outputs": [],
   "source": [
    "mnist_dataset, mnist_info = tfds.load(name=\"mnist\", with_info = True, as_supervised = True)\n",
    "#load to 2-tuple structures: [input, target]"
   ]
  },
  {
   "cell_type": "code",
   "execution_count": 4,
   "metadata": {
    "scrolled": false
   },
   "outputs": [],
   "source": [
    "mnist_train, mnist_test = mnist_dataset['train'], mnist_dataset['test']\n",
    "#we have to split train to train/test on our own --> take 10% as validation\n",
    "num_validation_samples = 0.1 * mnist_info.splits['train'].num_examples\n",
    "num_validation_samples = tf.cast(num_validation_samples, tf.int64) #convert a varible to integer\n",
    "#we got them in the mnist info\n",
    "\n",
    "\n",
    "num_test_samples = mnist_info.splits['test'].num_examples\n",
    "num_test_samples = tf.cast(num_validation_samples, tf.int64)"
   ]
  },
  {
   "cell_type": "code",
   "execution_count": 5,
   "metadata": {},
   "outputs": [],
   "source": [
    "#scale intput (0, 1)\n",
    "def scale(image, label):\n",
    "    image = tf.cast(image, tf.float32)\n",
    "    image /= 255. #chia 255 vi range input (0, 255)\n",
    "    return image, label\n",
    "scaled_train_and_validation_data = mnist_train.map(scale)\n",
    "test_data = mnist_test.map(scale)"
   ]
  },
  {
   "cell_type": "code",
   "execution_count": 6,
   "metadata": {},
   "outputs": [],
   "source": [
    "#Now we shuffle the data - as random as possible\n",
    "BUFFER_SIZE = 10000 #case of enourmous dataset - shuffle 10000 per time; BUFFER_SIZE = 1 --> nothing happen, BUFFER_SIZE > num_samples --> shuffle at once\n",
    "shuffled_train_and_validation_data = scaled_train_and_validation_data.shuffle(BUFFER_SIZE)\n",
    "\n",
    "validation_data = shuffled_train_and_validation_data.take(num_validation_samples)\n",
    "train_data = shuffled_train_and_validation_data.skip(num_validation_samples)\n",
    "\n",
    "BATCH_SIZE = 100\n",
    "train_data = train_data.batch(BATCH_SIZE) #combine consecutive elements of dataset into batches\n",
    "#In SGD, it uses only a single sample, i.e., a batch size of one, to perform each iteration\n",
    "\n",
    "\n",
    "validation_data = validation_data.batch(num_validation_samples)\n",
    "#take the whole validation data at once -> increase accuracy. We dont want estimation, we want accurate8     \n",
    "#batch size = num_validation_samples --> use the whole dataset for each iteration\n",
    "\n",
    "test_data = test_data.batch(num_test_samples) \n",
    "\n",
    "#sgd: we split data into batches. Update the weight after every batch instead of every epoch (8: 12)\n",
    "\n",
    "validation_inputs, validation_targets = next(iter(validation_data)) \n",
    "#iter make the dataset iterable, but not load data\n",
    "#next load the next batch (only 1 batch -> load input + target)\n"
   ]
  },
  {
   "cell_type": "markdown",
   "metadata": {},
   "source": [
    "# Model"
   ]
  },
  {
   "cell_type": "markdown",
   "metadata": {},
   "source": [
    "## Outline the model"
   ]
  },
  {
   "cell_type": "code",
   "execution_count": 7,
   "metadata": {},
   "outputs": [],
   "source": [
    "#784 inputs\n",
    "#10 output nodes\n",
    "#width, depth -> hyperparameter\n",
    "input_size = 784\n",
    "output_size = 10\n",
    "hidden_layer_size = 100\n",
    "\n",
    "#our data from tfds is 28x28x1. We dont know CNN -> flatten into vector\n",
    "#tf.keras.layers.Flatten(Original shape) - flatten tensor into vector\n",
    "model = tf.keras.Sequential([\n",
    "    tf.keras.layers.Flatten(input_shape = (28, 28, 1)),\n",
    "    tf.keras.layers.Dense(hidden_layer_size, activation = 'relu'), #1st hidden layer dot product of input and weight + bias\n",
    "    tf.keras.layers.Dense(hidden_layer_size, activation = 'relu'),\n",
    "    tf.keras.layers.Dense(output_size, activation = 'softmax')\n",
    "])"
   ]
  },
  {
   "cell_type": "markdown",
   "metadata": {},
   "source": [
    "## Choose the optimizer and the loss function"
   ]
  },
  {
   "cell_type": "code",
   "execution_count": 8,
   "metadata": {},
   "outputs": [],
   "source": [
    "#model.compile(optimizer, loss) configures the model for training\n",
    "#best choice: Adam \n",
    "model.compile(optimizer='adam', loss='sparse_categorical_crossentropy', metrics = ['accuracy'])\n",
    "# accuracy is the fraction of predictions our model got right"
   ]
  },
  {
   "cell_type": "markdown",
   "metadata": {},
   "source": [
    "## Training"
   ]
  },
  {
   "cell_type": "code",
   "execution_count": 9,
   "metadata": {
    "scrolled": true
   },
   "outputs": [
    {
     "name": "stdout",
     "output_type": "stream",
     "text": [
      "Epoch 1/5\n",
      "540/540 - 12s - loss: 0.3345 - accuracy: 0.9046 - val_loss: 0.0000e+00 - val_accuracy: 0.0000e+00\n",
      "Epoch 2/5\n",
      "540/540 - 10s - loss: 0.1438 - accuracy: 0.9569 - val_loss: 0.1217 - val_accuracy: 0.9637\n",
      "Epoch 3/5\n",
      "540/540 - 9s - loss: 0.1001 - accuracy: 0.9691 - val_loss: 0.0958 - val_accuracy: 0.9710\n",
      "Epoch 4/5\n",
      "540/540 - 10s - loss: 0.0757 - accuracy: 0.9767 - val_loss: 0.0644 - val_accuracy: 0.9798\n",
      "Epoch 5/5\n",
      "540/540 - 10s - loss: 0.0622 - accuracy: 0.9806 - val_loss: 0.0610 - val_accuracy: 0.9817\n"
     ]
    },
    {
     "data": {
      "text/plain": [
       "<tensorflow.python.keras.callbacks.History at 0x24743eb9648>"
      ]
     },
     "execution_count": 9,
     "metadata": {},
     "output_type": "execute_result"
    }
   ],
   "source": [
    "NUM_EPOCHS = 5\n",
    "\n",
    "model.fit(train_data, epochs = NUM_EPOCHS, validation_data = validation_data, verbose = 2)"
   ]
  },
  {
   "cell_type": "markdown",
   "metadata": {},
   "source": [
    "### 540 is the # of batches, loss: value of loss function, accuracy: % of cases outputs; val_loss and val_accuracy: values of validation_data (val_accuracy: true accuracy of whole set, while accuracy is just average accuracy)"
   ]
  },
  {
   "cell_type": "markdown",
   "metadata": {},
   "source": [
    "## Test the model"
   ]
  },
  {
   "cell_type": "code",
   "execution_count": 10,
   "metadata": {},
   "outputs": [
    {
     "name": "stdout",
     "output_type": "stream",
     "text": [
      "2/2 [==============================] - 1s 716ms/step - loss: 0.0722 - accuracy: 0.9762\n"
     ]
    }
   ],
   "source": [
    "#validation is not test. We consider validation accuracy as benchmark of how good the model is. The test data set is reality\n",
    "#the one our model has never see.\n",
    "test_loss, test_accuracy = model.evaluate(test_data)"
   ]
  },
  {
   "cell_type": "code",
   "execution_count": 11,
   "metadata": {},
   "outputs": [
    {
     "data": {
      "text/plain": [
       "0.072178415954113"
      ]
     },
     "execution_count": 11,
     "metadata": {},
     "output_type": "execute_result"
    }
   ],
   "source": [
    "test_loss"
   ]
  },
  {
   "cell_type": "code",
   "execution_count": 12,
   "metadata": {},
   "outputs": [
    {
     "data": {
      "text/plain": [
       "0.9762"
      ]
     },
     "execution_count": 12,
     "metadata": {},
     "output_type": "execute_result"
    }
   ],
   "source": [
    "test_accuracy"
   ]
  },
  {
   "cell_type": "code",
   "execution_count": 13,
   "metadata": {},
   "outputs": [],
   "source": [
    "#after testing the model, we are not allowed to change the model. The model already knows the data.\n",
    "#if we get 50-60% -> overfit model -> fail misserably in the rife. This is what we expect in real life"
   ]
  }
 ],
 "metadata": {
  "kernelspec": {
   "display_name": "Python [conda env:py3-TF2.0]",
   "language": "python",
   "name": "conda-env-py3-TF2.0-py"
  },
  "language_info": {
   "codemirror_mode": {
    "name": "ipython",
    "version": 3
   },
   "file_extension": ".py",
   "mimetype": "text/x-python",
   "name": "python",
   "nbconvert_exporter": "python",
   "pygments_lexer": "ipython3",
   "version": "3.7.6"
  }
 },
 "nbformat": 4,
 "nbformat_minor": 2
}
